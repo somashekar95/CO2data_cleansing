{
  "nbformat": 4,
  "nbformat_minor": 0,
  "metadata": {
    "colab": {
      "provenance": [],
      "authorship_tag": "ABX9TyNz1eeBh9ldl1d/bWOXxKuD",
      "include_colab_link": true
    },
    "kernelspec": {
      "name": "python3",
      "display_name": "Python 3"
    },
    "language_info": {
      "name": "python"
    }
  },
  "cells": [
    {
      "cell_type": "markdown",
      "metadata": {
        "id": "view-in-github",
        "colab_type": "text"
      },
      "source": [
        "<a href=\"https://colab.research.google.com/github/somashekar95/CO2data_cleansing/blob/dev/CO2data.ipynb\" target=\"_parent\"><img src=\"https://colab.research.google.com/assets/colab-badge.svg\" alt=\"Open In Colab\"/></a>"
      ]
    },
    {
      "cell_type": "code",
      "execution_count": 78,
      "metadata": {
        "id": "26pyPn3ZmSFL"
      },
      "outputs": [],
      "source": [
        "import numpy as np\n",
        "import pandas as pd\n",
        "import matplotlib.pyplot as plt\n",
        "import seaborn as sns\n",
        "\n",
        "#  1.Is the data in the same format (per column)?\n",
        "df=pd.read_csv(\"data.csv\")\n",
        "df.info() # to find the columns,count,data type\n",
        "df.describe() # to find the count ,mean,std,min,25th,50th,75th percentile\n",
        "df.shape # to find the size of the file(rows*column)\n",
        "plt.figure(figsize=(12,6),dpi=200)\n"
      ]
    },
    {
      "cell_type": "markdown",
      "source": [],
      "metadata": {
        "id": "8zkmLDUB--kU"
      }
    },
    {
      "cell_type": "markdown",
      "source": [
        "TO IDENTIFY,DROP AND FILL THE NULL VALUES"
      ],
      "metadata": {
        "id": "NlTD411DEclm"
      }
    },
    {
      "cell_type": "code",
      "source": [
        "# 2.Are there any null / missing values?\n",
        "df.isnull().sum() # total null values in each column\n",
        "df.fillna(0) # fill the null values with 0\n",
        "df.dropna() # to drop the null values\n",
        "\n"
      ],
      "metadata": {
        "colab": {
          "base_uri": "https://localhost:8080/",
          "height": 658
        },
        "id": "16hSk8T318vT",
        "outputId": "7f979771-5596-4981-bd0a-e6af914a6d07"
      },
      "execution_count": 36,
      "outputs": [
        {
          "output_type": "execute_result",
          "data": {
            "text/plain": [
              "       Make        Model   Vehicle Class  Engine Size(L)  Cylinders  \\\n",
              "0     ACURA          ILX         COMPACT             2.0        4.0   \n",
              "1     ACURA          ILX         COMPACT             2.4        4.0   \n",
              "2     ACURA   ILX HYBRID         COMPACT             1.5        4.0   \n",
              "3     ACURA      MDX 4WD     SUV - SMALL             3.5        6.0   \n",
              "4     ACURA      RDX AWD     SUV - SMALL             3.5        6.0   \n",
              "...     ...          ...             ...             ...        ...   \n",
              "7380  VOLVO  XC40 T5 AWD     SUV - SMALL             2.0        4.0   \n",
              "7381  VOLVO  XC60 T5 AWD     SUV - SMALL             2.0        4.0   \n",
              "7382  VOLVO  XC60 T6 AWD     SUV - SMALL             2.0        4.0   \n",
              "7383  VOLVO  XC90 T5 AWD  SUV - STANDARD             2.0        4.0   \n",
              "7384  VOLVO  XC90 T6 AWD  SUV - STANDARD             2.0        4.0   \n",
              "\n",
              "     Transmission Fuel Type  Fuel Consumption City (L/100 km)  \\\n",
              "0             AS5         Z                               9.9   \n",
              "1              M6         Z                              11.2   \n",
              "2             AV7         Z                               6.0   \n",
              "3             AS6         Z                              12.7   \n",
              "4             AS6         Z                              12.1   \n",
              "...           ...       ...                               ...   \n",
              "7380          AS8         Z                              10.7   \n",
              "7381          AS8         Z                              11.2   \n",
              "7382          AS8         Z                              11.7   \n",
              "7383          AS8         Z                              11.2   \n",
              "7384          AS8         Z                              12.2   \n",
              "\n",
              "      Fuel Consumption Hwy (L/100 km)  Fuel Consumption Comb (L/100 km)  \\\n",
              "0                                 6.7                               8.5   \n",
              "1                                 7.7                               9.6   \n",
              "2                                 5.8                               5.9   \n",
              "3                                 9.1                              11.1   \n",
              "4                                 8.7                              10.6   \n",
              "...                               ...                               ...   \n",
              "7380                              7.7                               9.4   \n",
              "7381                              8.3                               9.9   \n",
              "7382                              8.6                              10.3   \n",
              "7383                              8.3                               9.9   \n",
              "7384                              8.7                              10.7   \n",
              "\n",
              "      Fuel Consumption Comb (mpg)  CO2 Emissions(g/km)  \n",
              "0                              33                  196  \n",
              "1                              29                  221  \n",
              "2                              48                  136  \n",
              "3                              25                  255  \n",
              "4                              27                  244  \n",
              "...                           ...                  ...  \n",
              "7380                           30                  219  \n",
              "7381                           29                  232  \n",
              "7382                           27                  240  \n",
              "7383                           29                  232  \n",
              "7384                           26                  248  \n",
              "\n",
              "[7370 rows x 12 columns]"
            ],
            "text/html": [
              "\n",
              "  <div id=\"df-2c3e69df-798d-4efe-94b4-ddff4218db3d\">\n",
              "    <div class=\"colab-df-container\">\n",
              "      <div>\n",
              "<style scoped>\n",
              "    .dataframe tbody tr th:only-of-type {\n",
              "        vertical-align: middle;\n",
              "    }\n",
              "\n",
              "    .dataframe tbody tr th {\n",
              "        vertical-align: top;\n",
              "    }\n",
              "\n",
              "    .dataframe thead th {\n",
              "        text-align: right;\n",
              "    }\n",
              "</style>\n",
              "<table border=\"1\" class=\"dataframe\">\n",
              "  <thead>\n",
              "    <tr style=\"text-align: right;\">\n",
              "      <th></th>\n",
              "      <th>Make</th>\n",
              "      <th>Model</th>\n",
              "      <th>Vehicle Class</th>\n",
              "      <th>Engine Size(L)</th>\n",
              "      <th>Cylinders</th>\n",
              "      <th>Transmission</th>\n",
              "      <th>Fuel Type</th>\n",
              "      <th>Fuel Consumption City (L/100 km)</th>\n",
              "      <th>Fuel Consumption Hwy (L/100 km)</th>\n",
              "      <th>Fuel Consumption Comb (L/100 km)</th>\n",
              "      <th>Fuel Consumption Comb (mpg)</th>\n",
              "      <th>CO2 Emissions(g/km)</th>\n",
              "    </tr>\n",
              "  </thead>\n",
              "  <tbody>\n",
              "    <tr>\n",
              "      <th>0</th>\n",
              "      <td>ACURA</td>\n",
              "      <td>ILX</td>\n",
              "      <td>COMPACT</td>\n",
              "      <td>2.0</td>\n",
              "      <td>4.0</td>\n",
              "      <td>AS5</td>\n",
              "      <td>Z</td>\n",
              "      <td>9.9</td>\n",
              "      <td>6.7</td>\n",
              "      <td>8.5</td>\n",
              "      <td>33</td>\n",
              "      <td>196</td>\n",
              "    </tr>\n",
              "    <tr>\n",
              "      <th>1</th>\n",
              "      <td>ACURA</td>\n",
              "      <td>ILX</td>\n",
              "      <td>COMPACT</td>\n",
              "      <td>2.4</td>\n",
              "      <td>4.0</td>\n",
              "      <td>M6</td>\n",
              "      <td>Z</td>\n",
              "      <td>11.2</td>\n",
              "      <td>7.7</td>\n",
              "      <td>9.6</td>\n",
              "      <td>29</td>\n",
              "      <td>221</td>\n",
              "    </tr>\n",
              "    <tr>\n",
              "      <th>2</th>\n",
              "      <td>ACURA</td>\n",
              "      <td>ILX HYBRID</td>\n",
              "      <td>COMPACT</td>\n",
              "      <td>1.5</td>\n",
              "      <td>4.0</td>\n",
              "      <td>AV7</td>\n",
              "      <td>Z</td>\n",
              "      <td>6.0</td>\n",
              "      <td>5.8</td>\n",
              "      <td>5.9</td>\n",
              "      <td>48</td>\n",
              "      <td>136</td>\n",
              "    </tr>\n",
              "    <tr>\n",
              "      <th>3</th>\n",
              "      <td>ACURA</td>\n",
              "      <td>MDX 4WD</td>\n",
              "      <td>SUV - SMALL</td>\n",
              "      <td>3.5</td>\n",
              "      <td>6.0</td>\n",
              "      <td>AS6</td>\n",
              "      <td>Z</td>\n",
              "      <td>12.7</td>\n",
              "      <td>9.1</td>\n",
              "      <td>11.1</td>\n",
              "      <td>25</td>\n",
              "      <td>255</td>\n",
              "    </tr>\n",
              "    <tr>\n",
              "      <th>4</th>\n",
              "      <td>ACURA</td>\n",
              "      <td>RDX AWD</td>\n",
              "      <td>SUV - SMALL</td>\n",
              "      <td>3.5</td>\n",
              "      <td>6.0</td>\n",
              "      <td>AS6</td>\n",
              "      <td>Z</td>\n",
              "      <td>12.1</td>\n",
              "      <td>8.7</td>\n",
              "      <td>10.6</td>\n",
              "      <td>27</td>\n",
              "      <td>244</td>\n",
              "    </tr>\n",
              "    <tr>\n",
              "      <th>...</th>\n",
              "      <td>...</td>\n",
              "      <td>...</td>\n",
              "      <td>...</td>\n",
              "      <td>...</td>\n",
              "      <td>...</td>\n",
              "      <td>...</td>\n",
              "      <td>...</td>\n",
              "      <td>...</td>\n",
              "      <td>...</td>\n",
              "      <td>...</td>\n",
              "      <td>...</td>\n",
              "      <td>...</td>\n",
              "    </tr>\n",
              "    <tr>\n",
              "      <th>7380</th>\n",
              "      <td>VOLVO</td>\n",
              "      <td>XC40 T5 AWD</td>\n",
              "      <td>SUV - SMALL</td>\n",
              "      <td>2.0</td>\n",
              "      <td>4.0</td>\n",
              "      <td>AS8</td>\n",
              "      <td>Z</td>\n",
              "      <td>10.7</td>\n",
              "      <td>7.7</td>\n",
              "      <td>9.4</td>\n",
              "      <td>30</td>\n",
              "      <td>219</td>\n",
              "    </tr>\n",
              "    <tr>\n",
              "      <th>7381</th>\n",
              "      <td>VOLVO</td>\n",
              "      <td>XC60 T5 AWD</td>\n",
              "      <td>SUV - SMALL</td>\n",
              "      <td>2.0</td>\n",
              "      <td>4.0</td>\n",
              "      <td>AS8</td>\n",
              "      <td>Z</td>\n",
              "      <td>11.2</td>\n",
              "      <td>8.3</td>\n",
              "      <td>9.9</td>\n",
              "      <td>29</td>\n",
              "      <td>232</td>\n",
              "    </tr>\n",
              "    <tr>\n",
              "      <th>7382</th>\n",
              "      <td>VOLVO</td>\n",
              "      <td>XC60 T6 AWD</td>\n",
              "      <td>SUV - SMALL</td>\n",
              "      <td>2.0</td>\n",
              "      <td>4.0</td>\n",
              "      <td>AS8</td>\n",
              "      <td>Z</td>\n",
              "      <td>11.7</td>\n",
              "      <td>8.6</td>\n",
              "      <td>10.3</td>\n",
              "      <td>27</td>\n",
              "      <td>240</td>\n",
              "    </tr>\n",
              "    <tr>\n",
              "      <th>7383</th>\n",
              "      <td>VOLVO</td>\n",
              "      <td>XC90 T5 AWD</td>\n",
              "      <td>SUV - STANDARD</td>\n",
              "      <td>2.0</td>\n",
              "      <td>4.0</td>\n",
              "      <td>AS8</td>\n",
              "      <td>Z</td>\n",
              "      <td>11.2</td>\n",
              "      <td>8.3</td>\n",
              "      <td>9.9</td>\n",
              "      <td>29</td>\n",
              "      <td>232</td>\n",
              "    </tr>\n",
              "    <tr>\n",
              "      <th>7384</th>\n",
              "      <td>VOLVO</td>\n",
              "      <td>XC90 T6 AWD</td>\n",
              "      <td>SUV - STANDARD</td>\n",
              "      <td>2.0</td>\n",
              "      <td>4.0</td>\n",
              "      <td>AS8</td>\n",
              "      <td>Z</td>\n",
              "      <td>12.2</td>\n",
              "      <td>8.7</td>\n",
              "      <td>10.7</td>\n",
              "      <td>26</td>\n",
              "      <td>248</td>\n",
              "    </tr>\n",
              "  </tbody>\n",
              "</table>\n",
              "<p>7370 rows × 12 columns</p>\n",
              "</div>\n",
              "      <button class=\"colab-df-convert\" onclick=\"convertToInteractive('df-2c3e69df-798d-4efe-94b4-ddff4218db3d')\"\n",
              "              title=\"Convert this dataframe to an interactive table.\"\n",
              "              style=\"display:none;\">\n",
              "        \n",
              "  <svg xmlns=\"http://www.w3.org/2000/svg\" height=\"24px\"viewBox=\"0 0 24 24\"\n",
              "       width=\"24px\">\n",
              "    <path d=\"M0 0h24v24H0V0z\" fill=\"none\"/>\n",
              "    <path d=\"M18.56 5.44l.94 2.06.94-2.06 2.06-.94-2.06-.94-.94-2.06-.94 2.06-2.06.94zm-11 1L8.5 8.5l.94-2.06 2.06-.94-2.06-.94L8.5 2.5l-.94 2.06-2.06.94zm10 10l.94 2.06.94-2.06 2.06-.94-2.06-.94-.94-2.06-.94 2.06-2.06.94z\"/><path d=\"M17.41 7.96l-1.37-1.37c-.4-.4-.92-.59-1.43-.59-.52 0-1.04.2-1.43.59L10.3 9.45l-7.72 7.72c-.78.78-.78 2.05 0 2.83L4 21.41c.39.39.9.59 1.41.59.51 0 1.02-.2 1.41-.59l7.78-7.78 2.81-2.81c.8-.78.8-2.07 0-2.86zM5.41 20L4 18.59l7.72-7.72 1.47 1.35L5.41 20z\"/>\n",
              "  </svg>\n",
              "      </button>\n",
              "      \n",
              "  <style>\n",
              "    .colab-df-container {\n",
              "      display:flex;\n",
              "      flex-wrap:wrap;\n",
              "      gap: 12px;\n",
              "    }\n",
              "\n",
              "    .colab-df-convert {\n",
              "      background-color: #E8F0FE;\n",
              "      border: none;\n",
              "      border-radius: 50%;\n",
              "      cursor: pointer;\n",
              "      display: none;\n",
              "      fill: #1967D2;\n",
              "      height: 32px;\n",
              "      padding: 0 0 0 0;\n",
              "      width: 32px;\n",
              "    }\n",
              "\n",
              "    .colab-df-convert:hover {\n",
              "      background-color: #E2EBFA;\n",
              "      box-shadow: 0px 1px 2px rgba(60, 64, 67, 0.3), 0px 1px 3px 1px rgba(60, 64, 67, 0.15);\n",
              "      fill: #174EA6;\n",
              "    }\n",
              "\n",
              "    [theme=dark] .colab-df-convert {\n",
              "      background-color: #3B4455;\n",
              "      fill: #D2E3FC;\n",
              "    }\n",
              "\n",
              "    [theme=dark] .colab-df-convert:hover {\n",
              "      background-color: #434B5C;\n",
              "      box-shadow: 0px 1px 3px 1px rgba(0, 0, 0, 0.15);\n",
              "      filter: drop-shadow(0px 1px 2px rgba(0, 0, 0, 0.3));\n",
              "      fill: #FFFFFF;\n",
              "    }\n",
              "  </style>\n",
              "\n",
              "      <script>\n",
              "        const buttonEl =\n",
              "          document.querySelector('#df-2c3e69df-798d-4efe-94b4-ddff4218db3d button.colab-df-convert');\n",
              "        buttonEl.style.display =\n",
              "          google.colab.kernel.accessAllowed ? 'block' : 'none';\n",
              "\n",
              "        async function convertToInteractive(key) {\n",
              "          const element = document.querySelector('#df-2c3e69df-798d-4efe-94b4-ddff4218db3d');\n",
              "          const dataTable =\n",
              "            await google.colab.kernel.invokeFunction('convertToInteractive',\n",
              "                                                     [key], {});\n",
              "          if (!dataTable) return;\n",
              "\n",
              "          const docLinkHtml = 'Like what you see? Visit the ' +\n",
              "            '<a target=\"_blank\" href=https://colab.research.google.com/notebooks/data_table.ipynb>data table notebook</a>'\n",
              "            + ' to learn more about interactive tables.';\n",
              "          element.innerHTML = '';\n",
              "          dataTable['output_type'] = 'display_data';\n",
              "          await google.colab.output.renderOutput(dataTable, element);\n",
              "          const docLink = document.createElement('div');\n",
              "          docLink.innerHTML = docLinkHtml;\n",
              "          element.appendChild(docLink);\n",
              "        }\n",
              "      </script>\n",
              "    </div>\n",
              "  </div>\n",
              "  "
            ]
          },
          "metadata": {},
          "execution_count": 36
        }
      ]
    },
    {
      "cell_type": "markdown",
      "source": [
        "TO IDENTIFY AND REMOVE THE DUPLICATES"
      ],
      "metadata": {
        "id": "M80l1Epg-zRN"
      }
    },
    {
      "cell_type": "markdown",
      "source": [],
      "metadata": {
        "id": "32T4T-4P-802"
      }
    },
    {
      "cell_type": "code",
      "source": [
        "# 2.Are no duplicates in the data?\n",
        "df.duplicated().sum() # to find the total duplicated in dataset\n",
        "df.loc[df.duplicated(),:] # to identify the duplicated rows\n",
        "df.drop_duplicates(keep='first').shape # to drop the duplicates in dataset\n",
        "df.duplicated(subset=['Make','Model']).sum() # to find the duplicates in  each columns"
      ],
      "metadata": {
        "colab": {
          "base_uri": "https://localhost:8080/",
          "height": 609
        },
        "id": "52gNeLoY57c8",
        "outputId": "52a1aa2a-7cef-4526-85b0-76b184dd7c85"
      },
      "execution_count": 28,
      "outputs": [
        {
          "output_type": "execute_result",
          "data": {
            "text/plain": [
              "              Make       Model            Vehicle Class  Engine Size(L)  \\\n",
              "1075         ACURA     RDX AWD              SUV - SMALL             3.5   \n",
              "1076         ACURA         RLX                 MID-SIZE             3.5   \n",
              "1081    ALFA ROMEO          4C               TWO-SEATER             1.8   \n",
              "1082  ASTON MARTIN         DB9              MINICOMPACT             5.9   \n",
              "1084  ASTON MARTIN  V8 VANTAGE               TWO-SEATER             4.7   \n",
              "...            ...         ...                      ...             ...   \n",
              "7356        TOYOTA      Tundra  PICKUP TRUCK - STANDARD             5.7   \n",
              "7365    VOLKSWAGEN    Golf GTI                  COMPACT             2.0   \n",
              "7366    VOLKSWAGEN       Jetta                  COMPACT             1.4   \n",
              "7367    VOLKSWAGEN       Jetta                  COMPACT             1.4   \n",
              "7368    VOLKSWAGEN   Jetta GLI                  COMPACT             2.0   \n",
              "\n",
              "      Cylinders Transmission Fuel Type  Fuel Consumption City (L/100 km)  \\\n",
              "1075        6.0          AS6         Z                              12.1   \n",
              "1076        6.0          AS6         Z                              11.9   \n",
              "1081        4.0          AM6         Z                               9.7   \n",
              "1082       12.0           A6         Z                              18.0   \n",
              "1084        8.0          AM7         Z                              17.4   \n",
              "...         ...          ...       ...                               ...   \n",
              "7356        8.0          AS6         X                              17.7   \n",
              "7365        4.0           M6         X                               9.8   \n",
              "7366        4.0          AS8         X                               7.8   \n",
              "7367        4.0           M6         X                               7.9   \n",
              "7368        4.0          AM7         X                               9.3   \n",
              "\n",
              "      Fuel Consumption Hwy (L/100 km)  Fuel Consumption Comb (L/100 km)  \\\n",
              "1075                              8.7                              10.6   \n",
              "1076                              7.7                              10.0   \n",
              "1081                              6.9                               8.4   \n",
              "1082                             12.6                              15.6   \n",
              "1084                             11.3                              14.7   \n",
              "...                               ...                               ...   \n",
              "7356                             13.6                              15.9   \n",
              "7365                              7.3                               8.7   \n",
              "7366                              5.9                               7.0   \n",
              "7367                              5.9                               7.0   \n",
              "7368                              7.2                               8.4   \n",
              "\n",
              "      Fuel Consumption Comb (mpg)  CO2 Emissions(g/km)  \n",
              "1075                           27                  244  \n",
              "1076                           28                  230  \n",
              "1081                           34                  193  \n",
              "1082                           18                  359  \n",
              "1084                           19                  338  \n",
              "...                           ...                  ...  \n",
              "7356                           18                  371  \n",
              "7365                           32                  203  \n",
              "7366                           40                  162  \n",
              "7367                           40                  163  \n",
              "7368                           34                  196  \n",
              "\n",
              "[1102 rows x 12 columns]"
            ],
            "text/html": [
              "\n",
              "  <div id=\"df-8b179a6d-eef2-4dbe-a2bc-f2b5ef6224d5\">\n",
              "    <div class=\"colab-df-container\">\n",
              "      <div>\n",
              "<style scoped>\n",
              "    .dataframe tbody tr th:only-of-type {\n",
              "        vertical-align: middle;\n",
              "    }\n",
              "\n",
              "    .dataframe tbody tr th {\n",
              "        vertical-align: top;\n",
              "    }\n",
              "\n",
              "    .dataframe thead th {\n",
              "        text-align: right;\n",
              "    }\n",
              "</style>\n",
              "<table border=\"1\" class=\"dataframe\">\n",
              "  <thead>\n",
              "    <tr style=\"text-align: right;\">\n",
              "      <th></th>\n",
              "      <th>Make</th>\n",
              "      <th>Model</th>\n",
              "      <th>Vehicle Class</th>\n",
              "      <th>Engine Size(L)</th>\n",
              "      <th>Cylinders</th>\n",
              "      <th>Transmission</th>\n",
              "      <th>Fuel Type</th>\n",
              "      <th>Fuel Consumption City (L/100 km)</th>\n",
              "      <th>Fuel Consumption Hwy (L/100 km)</th>\n",
              "      <th>Fuel Consumption Comb (L/100 km)</th>\n",
              "      <th>Fuel Consumption Comb (mpg)</th>\n",
              "      <th>CO2 Emissions(g/km)</th>\n",
              "    </tr>\n",
              "  </thead>\n",
              "  <tbody>\n",
              "    <tr>\n",
              "      <th>1075</th>\n",
              "      <td>ACURA</td>\n",
              "      <td>RDX AWD</td>\n",
              "      <td>SUV - SMALL</td>\n",
              "      <td>3.5</td>\n",
              "      <td>6.0</td>\n",
              "      <td>AS6</td>\n",
              "      <td>Z</td>\n",
              "      <td>12.1</td>\n",
              "      <td>8.7</td>\n",
              "      <td>10.6</td>\n",
              "      <td>27</td>\n",
              "      <td>244</td>\n",
              "    </tr>\n",
              "    <tr>\n",
              "      <th>1076</th>\n",
              "      <td>ACURA</td>\n",
              "      <td>RLX</td>\n",
              "      <td>MID-SIZE</td>\n",
              "      <td>3.5</td>\n",
              "      <td>6.0</td>\n",
              "      <td>AS6</td>\n",
              "      <td>Z</td>\n",
              "      <td>11.9</td>\n",
              "      <td>7.7</td>\n",
              "      <td>10.0</td>\n",
              "      <td>28</td>\n",
              "      <td>230</td>\n",
              "    </tr>\n",
              "    <tr>\n",
              "      <th>1081</th>\n",
              "      <td>ALFA ROMEO</td>\n",
              "      <td>4C</td>\n",
              "      <td>TWO-SEATER</td>\n",
              "      <td>1.8</td>\n",
              "      <td>4.0</td>\n",
              "      <td>AM6</td>\n",
              "      <td>Z</td>\n",
              "      <td>9.7</td>\n",
              "      <td>6.9</td>\n",
              "      <td>8.4</td>\n",
              "      <td>34</td>\n",
              "      <td>193</td>\n",
              "    </tr>\n",
              "    <tr>\n",
              "      <th>1082</th>\n",
              "      <td>ASTON MARTIN</td>\n",
              "      <td>DB9</td>\n",
              "      <td>MINICOMPACT</td>\n",
              "      <td>5.9</td>\n",
              "      <td>12.0</td>\n",
              "      <td>A6</td>\n",
              "      <td>Z</td>\n",
              "      <td>18.0</td>\n",
              "      <td>12.6</td>\n",
              "      <td>15.6</td>\n",
              "      <td>18</td>\n",
              "      <td>359</td>\n",
              "    </tr>\n",
              "    <tr>\n",
              "      <th>1084</th>\n",
              "      <td>ASTON MARTIN</td>\n",
              "      <td>V8 VANTAGE</td>\n",
              "      <td>TWO-SEATER</td>\n",
              "      <td>4.7</td>\n",
              "      <td>8.0</td>\n",
              "      <td>AM7</td>\n",
              "      <td>Z</td>\n",
              "      <td>17.4</td>\n",
              "      <td>11.3</td>\n",
              "      <td>14.7</td>\n",
              "      <td>19</td>\n",
              "      <td>338</td>\n",
              "    </tr>\n",
              "    <tr>\n",
              "      <th>...</th>\n",
              "      <td>...</td>\n",
              "      <td>...</td>\n",
              "      <td>...</td>\n",
              "      <td>...</td>\n",
              "      <td>...</td>\n",
              "      <td>...</td>\n",
              "      <td>...</td>\n",
              "      <td>...</td>\n",
              "      <td>...</td>\n",
              "      <td>...</td>\n",
              "      <td>...</td>\n",
              "      <td>...</td>\n",
              "    </tr>\n",
              "    <tr>\n",
              "      <th>7356</th>\n",
              "      <td>TOYOTA</td>\n",
              "      <td>Tundra</td>\n",
              "      <td>PICKUP TRUCK - STANDARD</td>\n",
              "      <td>5.7</td>\n",
              "      <td>8.0</td>\n",
              "      <td>AS6</td>\n",
              "      <td>X</td>\n",
              "      <td>17.7</td>\n",
              "      <td>13.6</td>\n",
              "      <td>15.9</td>\n",
              "      <td>18</td>\n",
              "      <td>371</td>\n",
              "    </tr>\n",
              "    <tr>\n",
              "      <th>7365</th>\n",
              "      <td>VOLKSWAGEN</td>\n",
              "      <td>Golf GTI</td>\n",
              "      <td>COMPACT</td>\n",
              "      <td>2.0</td>\n",
              "      <td>4.0</td>\n",
              "      <td>M6</td>\n",
              "      <td>X</td>\n",
              "      <td>9.8</td>\n",
              "      <td>7.3</td>\n",
              "      <td>8.7</td>\n",
              "      <td>32</td>\n",
              "      <td>203</td>\n",
              "    </tr>\n",
              "    <tr>\n",
              "      <th>7366</th>\n",
              "      <td>VOLKSWAGEN</td>\n",
              "      <td>Jetta</td>\n",
              "      <td>COMPACT</td>\n",
              "      <td>1.4</td>\n",
              "      <td>4.0</td>\n",
              "      <td>AS8</td>\n",
              "      <td>X</td>\n",
              "      <td>7.8</td>\n",
              "      <td>5.9</td>\n",
              "      <td>7.0</td>\n",
              "      <td>40</td>\n",
              "      <td>162</td>\n",
              "    </tr>\n",
              "    <tr>\n",
              "      <th>7367</th>\n",
              "      <td>VOLKSWAGEN</td>\n",
              "      <td>Jetta</td>\n",
              "      <td>COMPACT</td>\n",
              "      <td>1.4</td>\n",
              "      <td>4.0</td>\n",
              "      <td>M6</td>\n",
              "      <td>X</td>\n",
              "      <td>7.9</td>\n",
              "      <td>5.9</td>\n",
              "      <td>7.0</td>\n",
              "      <td>40</td>\n",
              "      <td>163</td>\n",
              "    </tr>\n",
              "    <tr>\n",
              "      <th>7368</th>\n",
              "      <td>VOLKSWAGEN</td>\n",
              "      <td>Jetta GLI</td>\n",
              "      <td>COMPACT</td>\n",
              "      <td>2.0</td>\n",
              "      <td>4.0</td>\n",
              "      <td>AM7</td>\n",
              "      <td>X</td>\n",
              "      <td>9.3</td>\n",
              "      <td>7.2</td>\n",
              "      <td>8.4</td>\n",
              "      <td>34</td>\n",
              "      <td>196</td>\n",
              "    </tr>\n",
              "  </tbody>\n",
              "</table>\n",
              "<p>1102 rows × 12 columns</p>\n",
              "</div>\n",
              "      <button class=\"colab-df-convert\" onclick=\"convertToInteractive('df-8b179a6d-eef2-4dbe-a2bc-f2b5ef6224d5')\"\n",
              "              title=\"Convert this dataframe to an interactive table.\"\n",
              "              style=\"display:none;\">\n",
              "        \n",
              "  <svg xmlns=\"http://www.w3.org/2000/svg\" height=\"24px\"viewBox=\"0 0 24 24\"\n",
              "       width=\"24px\">\n",
              "    <path d=\"M0 0h24v24H0V0z\" fill=\"none\"/>\n",
              "    <path d=\"M18.56 5.44l.94 2.06.94-2.06 2.06-.94-2.06-.94-.94-2.06-.94 2.06-2.06.94zm-11 1L8.5 8.5l.94-2.06 2.06-.94-2.06-.94L8.5 2.5l-.94 2.06-2.06.94zm10 10l.94 2.06.94-2.06 2.06-.94-2.06-.94-.94-2.06-.94 2.06-2.06.94z\"/><path d=\"M17.41 7.96l-1.37-1.37c-.4-.4-.92-.59-1.43-.59-.52 0-1.04.2-1.43.59L10.3 9.45l-7.72 7.72c-.78.78-.78 2.05 0 2.83L4 21.41c.39.39.9.59 1.41.59.51 0 1.02-.2 1.41-.59l7.78-7.78 2.81-2.81c.8-.78.8-2.07 0-2.86zM5.41 20L4 18.59l7.72-7.72 1.47 1.35L5.41 20z\"/>\n",
              "  </svg>\n",
              "      </button>\n",
              "      \n",
              "  <style>\n",
              "    .colab-df-container {\n",
              "      display:flex;\n",
              "      flex-wrap:wrap;\n",
              "      gap: 12px;\n",
              "    }\n",
              "\n",
              "    .colab-df-convert {\n",
              "      background-color: #E8F0FE;\n",
              "      border: none;\n",
              "      border-radius: 50%;\n",
              "      cursor: pointer;\n",
              "      display: none;\n",
              "      fill: #1967D2;\n",
              "      height: 32px;\n",
              "      padding: 0 0 0 0;\n",
              "      width: 32px;\n",
              "    }\n",
              "\n",
              "    .colab-df-convert:hover {\n",
              "      background-color: #E2EBFA;\n",
              "      box-shadow: 0px 1px 2px rgba(60, 64, 67, 0.3), 0px 1px 3px 1px rgba(60, 64, 67, 0.15);\n",
              "      fill: #174EA6;\n",
              "    }\n",
              "\n",
              "    [theme=dark] .colab-df-convert {\n",
              "      background-color: #3B4455;\n",
              "      fill: #D2E3FC;\n",
              "    }\n",
              "\n",
              "    [theme=dark] .colab-df-convert:hover {\n",
              "      background-color: #434B5C;\n",
              "      box-shadow: 0px 1px 3px 1px rgba(0, 0, 0, 0.15);\n",
              "      filter: drop-shadow(0px 1px 2px rgba(0, 0, 0, 0.3));\n",
              "      fill: #FFFFFF;\n",
              "    }\n",
              "  </style>\n",
              "\n",
              "      <script>\n",
              "        const buttonEl =\n",
              "          document.querySelector('#df-8b179a6d-eef2-4dbe-a2bc-f2b5ef6224d5 button.colab-df-convert');\n",
              "        buttonEl.style.display =\n",
              "          google.colab.kernel.accessAllowed ? 'block' : 'none';\n",
              "\n",
              "        async function convertToInteractive(key) {\n",
              "          const element = document.querySelector('#df-8b179a6d-eef2-4dbe-a2bc-f2b5ef6224d5');\n",
              "          const dataTable =\n",
              "            await google.colab.kernel.invokeFunction('convertToInteractive',\n",
              "                                                     [key], {});\n",
              "          if (!dataTable) return;\n",
              "\n",
              "          const docLinkHtml = 'Like what you see? Visit the ' +\n",
              "            '<a target=\"_blank\" href=https://colab.research.google.com/notebooks/data_table.ipynb>data table notebook</a>'\n",
              "            + ' to learn more about interactive tables.';\n",
              "          element.innerHTML = '';\n",
              "          dataTable['output_type'] = 'display_data';\n",
              "          await google.colab.output.renderOutput(dataTable, element);\n",
              "          const docLink = document.createElement('div');\n",
              "          docLink.innerHTML = docLinkHtml;\n",
              "          element.appendChild(docLink);\n",
              "        }\n",
              "      </script>\n",
              "    </div>\n",
              "  </div>\n",
              "  "
            ]
          },
          "metadata": {},
          "execution_count": 28
        }
      ]
    },
    {
      "cell_type": "markdown",
      "source": [
        "TO FIND THE OUTLIERS FOR PER COLUMN"
      ],
      "metadata": {
        "id": "TgANf4EjEs3-"
      }
    },
    {
      "cell_type": "code",
      "source": [
        "# 4.Any outliers in the data (per column)?\n",
        "# Outliers in Engine Size(L) column\n",
        "max=df['Engine Size(L)'].quantile(0.95)\n",
        "print(max)\n",
        "min=df['Engine Size(L)'].quantile(0.05)\n",
        "print(min)\n",
        "df[df['Engine Size(L)']<min]\n",
        "df[df['Engine Size(L)']>max]\n",
        "df1=df[(df['Engine Size(L)']>min)& (df['Engine Size(L)']<max)] # to remove the outliers\n",
        "df1\n",
        "sns.boxplot(df['Engine Size(L)'])\n"
      ],
      "metadata": {
        "id": "VykdX3zCsRpa",
        "colab": {
          "base_uri": "https://localhost:8080/",
          "height": 386
        },
        "outputId": "1e263922-3985-46ac-bfea-500f895feb62"
      },
      "execution_count": 71,
      "outputs": [
        {
          "output_type": "stream",
          "name": "stdout",
          "text": [
            "6.0\n",
            "1.5\n"
          ]
        },
        {
          "output_type": "stream",
          "name": "stderr",
          "text": [
            "/usr/local/lib/python3.8/dist-packages/seaborn/_decorators.py:36: FutureWarning: Pass the following variable as a keyword arg: x. From version 0.12, the only valid positional argument will be `data`, and passing other arguments without an explicit keyword will result in an error or misinterpretation.\n",
            "  warnings.warn(\n"
          ]
        },
        {
          "output_type": "execute_result",
          "data": {
            "text/plain": [
              "<matplotlib.axes._subplots.AxesSubplot at 0x7f6f57201190>"
            ]
          },
          "metadata": {},
          "execution_count": 71
        },
        {
          "output_type": "display_data",
          "data": {
            "text/plain": [
              "<Figure size 432x288 with 1 Axes>"
            ],
            "image/png": "[encoded data removed]"
          },
          "metadata": {
            "needs_background": "light"
          }
        }
      ]
    },
    {
      "cell_type": "code",
      "source": [
        "# Outliers in Cylinders column\n",
        "max=df['Cylinders'].quantile(0.95)\n",
        "print(max)\n",
        "min=df['Cylinders'].quantile(0.05)\n",
        "print(min)\n",
        "df[df['Cylinders']<min]\n",
        "df[df['Cylinders']>max]\n",
        "df2=df[(df['Cylinders']>min)& (df['Cylinders']<max)] # to remove the outliers\n",
        "df2\n",
        "sns.boxplot(df['Cylinders'])"
      ],
      "metadata": {
        "colab": {
          "base_uri": "https://localhost:8080/",
          "height": 386
        },
        "id": "R3OEJnONLT4I",
        "outputId": "85d53d92-bd21-449e-b8ec-231cd722348a"
      },
      "execution_count": 70,
      "outputs": [
        {
          "output_type": "stream",
          "name": "stdout",
          "text": [
            "8.0\n",
            "4.0\n"
          ]
        },
        {
          "output_type": "stream",
          "name": "stderr",
          "text": [
            "/usr/local/lib/python3.8/dist-packages/seaborn/_decorators.py:36: FutureWarning: Pass the following variable as a keyword arg: x. From version 0.12, the only valid positional argument will be `data`, and passing other arguments without an explicit keyword will result in an error or misinterpretation.\n",
            "  warnings.warn(\n"
          ]
        },
        {
          "output_type": "execute_result",
          "data": {
            "text/plain": [
              "<matplotlib.axes._subplots.AxesSubplot at 0x7f6f572a2b20>"
            ]
          },
          "metadata": {},
          "execution_count": 70
        },
        {
          "output_type": "display_data",
          "data": {
            "text/plain": [
              "<Figure size 432x288 with 1 Axes>"
            ],
            "image/png": "[encoded data removed]"
          },
          "metadata": {
            "needs_background": "light"
          }
        }
      ]
    },
    {
      "cell_type": "code",
      "source": [
        "# Outliers in Fuel Consumption City (L/100 km) column\n",
        "max=df['Fuel Consumption City (L/100 km)'].quantile(0.95)\n",
        "print(max)\n",
        "min=df['Fuel Consumption City (L/100 km)'].quantile(0.05)\n",
        "print(min)\n",
        "df[df['Fuel Consumption City (L/100 km)']<min]\n",
        "df[df['Fuel Consumption City (L/100 km)']>max]\n",
        "df3=df[(df['Fuel Consumption City (L/100 km)']>min)& (df['Fuel Consumption City (L/100 km)']<max)] # to remove the outliers\n",
        "df3\n",
        "sns.boxplot(df['Fuel Consumption City (L/100 km)'])"
      ],
      "metadata": {
        "colab": {
          "base_uri": "https://localhost:8080/",
          "height": 386
        },
        "id": "L9G65rYjLXU_",
        "outputId": "ef9a538e-5f25-4510-aa2d-51a4fa82a3af"
      },
      "execution_count": 72,
      "outputs": [
        {
          "output_type": "stream",
          "name": "stdout",
          "text": [
            "19.2\n",
            "8.0\n"
          ]
        },
        {
          "output_type": "stream",
          "name": "stderr",
          "text": [
            "/usr/local/lib/python3.8/dist-packages/seaborn/_decorators.py:36: FutureWarning: Pass the following variable as a keyword arg: x. From version 0.12, the only valid positional argument will be `data`, and passing other arguments without an explicit keyword will result in an error or misinterpretation.\n",
            "  warnings.warn(\n"
          ]
        },
        {
          "output_type": "execute_result",
          "data": {
            "text/plain": [
              "<matplotlib.axes._subplots.AxesSubplot at 0x7f6f571c3340>"
            ]
          },
          "metadata": {},
          "execution_count": 72
        },
        {
          "output_type": "display_data",
          "data": {
            "text/plain": [
              "<Figure size 432x288 with 1 Axes>"
            ],
            "image/png": "[encoded data removed]"
          },
          "metadata": {
            "needs_background": "light"
          }
        }
      ]
    },
    {
      "cell_type": "code",
      "source": [
        "# Outliers in Fuel Consumption Hwy (L/100 km) column\n",
        "max=df['Fuel Consumption Hwy (L/100 km)'].quantile(0.95)\n",
        "print(max)\n",
        "min=df['Fuel Consumption Hwy (L/100 km)'].quantile(0.05)\n",
        "print(min)\n",
        "df[df['Fuel Consumption Hwy (L/100 km)']<min]\n",
        "df[df['Fuel Consumption Hwy (L/100 km)']>max]\n",
        "df4=df[(df['Fuel Consumption Hwy (L/100 km)']>min)& (df['Fuel Consumption Hwy (L/100 km)']<max)] # to remove the outliers\n",
        "df4\n",
        "sns.boxplot(df['Cylinders'])"
      ],
      "metadata": {
        "colab": {
          "base_uri": "https://localhost:8080/",
          "height": 386
        },
        "id": "mM4xsWkqLvg2",
        "outputId": "d1555e03-108f-40a4-fcc4-a82f6be0d72d"
      },
      "execution_count": 73,
      "outputs": [
        {
          "output_type": "stream",
          "name": "stdout",
          "text": [
            "13.2\n",
            "6.1\n"
          ]
        },
        {
          "output_type": "stream",
          "name": "stderr",
          "text": [
            "/usr/local/lib/python3.8/dist-packages/seaborn/_decorators.py:36: FutureWarning: Pass the following variable as a keyword arg: x. From version 0.12, the only valid positional argument will be `data`, and passing other arguments without an explicit keyword will result in an error or misinterpretation.\n",
            "  warnings.warn(\n"
          ]
        },
        {
          "output_type": "execute_result",
          "data": {
            "text/plain": [
              "<matplotlib.axes._subplots.AxesSubplot at 0x7f6f5718ef40>"
            ]
          },
          "metadata": {},
          "execution_count": 73
        },
        {
          "output_type": "display_data",
          "data": {
            "text/plain": [
              "<Figure size 432x288 with 1 Axes>"
            ],
            "image/png": "[encoded data removed]"
          },
          "metadata": {
            "needs_background": "light"
          }
        }
      ]
    },
    {
      "cell_type": "code",
      "source": [
        "# Outliers in Fuel Consumption Comb (L/100 km) column\n",
        "max=df['Fuel Consumption Comb (L/100 km)'].quantile(0.95)\n",
        "print(max)\n",
        "min=df['Fuel Consumption Comb (L/100 km)'].quantile(0.05)\n",
        "print(min)\n",
        "df[df['Fuel Consumption Comb (L/100 km)']<min]\n",
        "df[df['Fuel Consumption Comb (L/100 km)']>max]\n",
        "df5=df[(df['Fuel Consumption Comb (L/100 km)']>min)& (df['Fuel Consumption Comb (L/100 km)']<max)] # to remove the outliers\n",
        "df5\n",
        "sns.boxplot(df['Fuel Consumption Comb (L/100 km)'])"
      ],
      "metadata": {
        "colab": {
          "base_uri": "https://localhost:8080/",
          "height": 386
        },
        "id": "Tp7HM0EMMRjo",
        "outputId": "4062fa00-0e06-4478-da0c-7515e4e9f32a"
      },
      "execution_count": 74,
      "outputs": [
        {
          "output_type": "stream",
          "name": "stdout",
          "text": [
            "16.5\n",
            "7.2\n"
          ]
        },
        {
          "output_type": "stream",
          "name": "stderr",
          "text": [
            "/usr/local/lib/python3.8/dist-packages/seaborn/_decorators.py:36: FutureWarning: Pass the following variable as a keyword arg: x. From version 0.12, the only valid positional argument will be `data`, and passing other arguments without an explicit keyword will result in an error or misinterpretation.\n",
            "  warnings.warn(\n"
          ]
        },
        {
          "output_type": "execute_result",
          "data": {
            "text/plain": [
              "<matplotlib.axes._subplots.AxesSubplot at 0x7f6f57124bb0>"
            ]
          },
          "metadata": {},
          "execution_count": 74
        },
        {
          "output_type": "display_data",
          "data": {
            "text/plain": [
              "<Figure size 432x288 with 1 Axes>"
            ],
            "image/png": "[encoded data removed]"
          },
          "metadata": {
            "needs_background": "light"
          }
        }
      ]
    },
    {
      "cell_type": "code",
      "source": [
        "# Outliers in Fuel Consumption Comb (mpg) column\n",
        "max=df['Fuel Consumption Comb (mpg)'].quantile(0.95)\n",
        "print(max)\n",
        "min=df['Fuel Consumption Comb (mpg)'].quantile(0.05)\n",
        "print(min)\n",
        "df[df['Fuel Consumption Comb (mpg)']<min]\n",
        "df[df['Fuel Consumption Comb (mpg)']>max]\n",
        "df6=df[(df['Fuel Consumption Comb (mpg)']>min)& (df['Fuel Consumption Comb (mpg)']<max)] # to remove the outliers\n",
        "df6\n",
        "sns.boxplot(df['Fuel Consumption Comb (mpg)'])"
      ],
      "metadata": {
        "colab": {
          "base_uri": "https://localhost:8080/",
          "height": 386
        },
        "id": "jwrme9hgMsm2",
        "outputId": "15a091c6-ed50-4561-df98-2190d27b6506"
      },
      "execution_count": 75,
      "outputs": [
        {
          "output_type": "stream",
          "name": "stdout",
          "text": [
            "39.0\n",
            "17.0\n"
          ]
        },
        {
          "output_type": "stream",
          "name": "stderr",
          "text": [
            "/usr/local/lib/python3.8/dist-packages/seaborn/_decorators.py:36: FutureWarning: Pass the following variable as a keyword arg: x. From version 0.12, the only valid positional argument will be `data`, and passing other arguments without an explicit keyword will result in an error or misinterpretation.\n",
            "  warnings.warn(\n"
          ]
        },
        {
          "output_type": "execute_result",
          "data": {
            "text/plain": [
              "<matplotlib.axes._subplots.AxesSubplot at 0x7f6f570c8580>"
            ]
          },
          "metadata": {},
          "execution_count": 75
        },
        {
          "output_type": "display_data",
          "data": {
            "text/plain": [
              "<Figure size 432x288 with 1 Axes>"
            ],
            "image/png": "[encoded data removed]"
          },
          "metadata": {
            "needs_background": "light"
          }
        }
      ]
    },
    {
      "cell_type": "code",
      "source": [
        "# Outliers in CO2 Emissions(g/km) column\n",
        "max=df['CO2 Emissions(g/km)'].quantile(0.95)\n",
        "print(max)\n",
        "min=df['CO2 Emissions(g/km)'].quantile(0.05)\n",
        "print(min)\n",
        "df[df['CO2 Emissions(g/km)']<min]\n",
        "df[df['CO2 Emissions(g/km)']>max]\n",
        "df6=df[(df['CO2 Emissions(g/km)']>min)& (df['CO2 Emissions(g/km)']<max)] # to remove the outliers\n",
        "df6\n",
        "sns.boxplot(df['CO2 Emissions(g/km)'])"
      ],
      "metadata": {
        "colab": {
          "base_uri": "https://localhost:8080/",
          "height": 386
        },
        "id": "_GSUtQEINIJn",
        "outputId": "377a325b-e41c-49b7-9012-ea7c676883c6"
      },
      "execution_count": 76,
      "outputs": [
        {
          "output_type": "stream",
          "name": "stdout",
          "text": [
            "354.0\n",
            "169.0\n"
          ]
        },
        {
          "output_type": "stream",
          "name": "stderr",
          "text": [
            "/usr/local/lib/python3.8/dist-packages/seaborn/_decorators.py:36: FutureWarning: Pass the following variable as a keyword arg: x. From version 0.12, the only valid positional argument will be `data`, and passing other arguments without an explicit keyword will result in an error or misinterpretation.\n",
            "  warnings.warn(\n"
          ]
        },
        {
          "output_type": "execute_result",
          "data": {
            "text/plain": [
              "<matplotlib.axes._subplots.AxesSubplot at 0x7f6f57031df0>"
            ]
          },
          "metadata": {},
          "execution_count": 76
        },
        {
          "output_type": "display_data",
          "data": {
            "text/plain": [
              "<Figure size 432x288 with 1 Axes>"
            ],
            "image/png": "[encoded data removed]"
          },
          "metadata": {
            "needs_background": "light"
          }
        }
      ]
    }
  ]
}